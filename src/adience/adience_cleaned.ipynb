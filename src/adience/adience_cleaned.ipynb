{
  "metadata": {
    "kernelspec": {
      "language": "python",
      "display_name": "Python 3",
      "name": "python3"
    },
    "language_info": {
      "name": "python",
      "version": "3.10.14",
      "mimetype": "text/x-python",
      "codemirror_mode": {
        "name": "ipython",
        "version": 3
      },
      "pygments_lexer": "ipython3",
      "nbconvert_exporter": "python",
      "file_extension": ".py"
    },
    "kaggle": {
      "accelerator": "none",
      "dataSources": [
        {
          "sourceId": 1657961,
          "sourceType": "datasetVersion",
          "datasetId": 981505
        },
        {
          "sourceId": 9806637,
          "sourceType": "datasetVersion",
          "datasetId": 6011125
        }
      ],
      "dockerImageVersionId": 30786,
      "isInternetEnabled": true,
      "language": "python",
      "sourceType": "notebook",
      "isGpuEnabled": false
    },
    "colab": {
      "name": "adience",
      "provenance": []
    }
  },
  "nbformat_minor": 0,
  "nbformat": 4,
  "cells": [
    {
      "cell_type": "code",
      "source": [
        "import os\n",
        "import re\n",
        "import numpy as np\n",
        "import pandas as pd\n",
        "import torch\n",
        "from PIL import Image\n",
        "import cv2"
      ],
      "metadata": {
        "_uuid": "8f2839f25d086af736a60e9eeb907d3b93b6e0e5",
        "_cell_guid": "b1076dfc-b9ad-4769-8c92-a6c4dae69d19",
        "_kg_hide-output": false,
        "trusted": true,
        "id": "ZM8iwsujiaVv"
      },
      "outputs": [],
      "execution_count": null
    },
    {
      "cell_type": "code",
      "source": [
        "import kagglehub\n",
        "\n",
        "# Download latest version\n",
        "path = kagglehub.dataset_download(\"alfredhhw/adiencegender\")\n",
        "\n",
        "print(\"Path to dataset files:\", path)"
      ],
      "metadata": {
        "id": "068LHg3Gim5K"
      },
      "execution_count": null,
      "outputs": []
    },
    {
      "cell_type": "code",
      "source": [
        "IMAGE_DIR = path + \"/AdienceGender/aligned/\""
      ],
      "metadata": {
        "trusted": true,
        "id": "AZz3MJ5QiaVw"
      },
      "outputs": [],
      "execution_count": null
    },
    {
      "cell_type": "code",
      "source": [
        "adience_dict = {\"image_path\": [], \"age\": [], \"gender\": []}\n",
        "for dirname, _, filenames in os.walk('/kaggle/input'):\n",
        "    for filename in filenames:\n",
        "        if os.path.splitext(filename)[1] == \".txt\":\n",
        "            with open(os.path.join(dirname, filename), 'r') as f:\n",
        "                for idx, line in enumerate(f):\n",
        "                    if idx == 0:\n",
        "                        continue\n",
        "                    line = line.strip().split('\\t')\n",
        "                    if line[3] == \"None\":\n",
        "                        continue\n",
        "                    adience_dict['image_path'].append(line[0] + \"/landmark_aligned_face.\" + line[2] + \".\" + line[1])\n",
        "                    adience_dict['age'].append(line[3])\n",
        "                    adience_dict['gender'].append(line[4])"
      ],
      "metadata": {
        "trusted": true,
        "id": "OwJvC3ftiaVw"
      },
      "outputs": [],
      "execution_count": null
    },
    {
      "cell_type": "code",
      "source": [
        "adience_df = pd.DataFrame(adience_dict)"
      ],
      "metadata": {
        "trusted": true,
        "id": "YQYOux3kiaVw"
      },
      "outputs": [],
      "execution_count": null
    },
    {
      "cell_type": "code",
      "source": [
        "def calculateVariance(image_path):\n",
        "    # Read the image\n",
        "    image = cv2.imread(IMAGE_DIR + image_path)\n",
        "\n",
        "    gray = cv2.cvtColor(image, cv2.COLOR_BGR2GRAY)\n",
        "\n",
        "    laplacian_var = cv2.Laplacian(gray, cv2.CV_64F).var()\n",
        "\n",
        "    return laplacian_var"
      ],
      "metadata": {
        "trusted": true,
        "id": "pdEaDvQAiaVw"
      },
      "outputs": [],
      "execution_count": null
    },
    {
      "cell_type": "code",
      "source": [
        "variance = adience_df['image_path'].apply(lambda x: calculateVariance(x))"
      ],
      "metadata": {
        "trusted": true,
        "id": "D9jr9Z6kiaVw"
      },
      "outputs": [],
      "execution_count": null
    },
    {
      "cell_type": "code",
      "source": [
        "stats = {\n",
        "    'Mean': variance.mean(),\n",
        "    'Standard Deviation': variance.std(),\n",
        "    'Minimum': variance.min(),\n",
        "    'Maximum': variance.max(),\n",
        "    'Median': variance.median(),\n",
        "    '25th Percentile (Q1)': variance.quantile(0.25),\n",
        "    '75th Percentile (Q3)': variance.quantile(0.75),\n",
        "    'Count': variance.count()\n",
        "}\n",
        "stats"
      ],
      "metadata": {
        "trusted": true,
        "id": "PTn-q_u_iaVw"
      },
      "outputs": [],
      "execution_count": null
    },
    {
      "cell_type": "code",
      "source": [
        "Q1 = variance.quantile(0.25)\n",
        "Q2 = variance.quantile(0.50)\n",
        "Q3 = variance.quantile(0.75)\n",
        "count_Q1 = ((variance < Q1).sum())\n",
        "count_Q2 = ((variance >= Q1) & (variance < Q2)).sum()\n",
        "count_Q3 = ((variance >= Q2) & (variance < Q3)).sum()\n",
        "count_above_Q3 = (variance >= Q3).sum()\n",
        "print(count_Q1, count_Q2, count_Q3, count_above_Q3)"
      ],
      "metadata": {
        "trusted": true,
        "id": "g1ePPUNHiaVx"
      },
      "outputs": [],
      "execution_count": null
    },
    {
      "cell_type": "code",
      "source": [
        "adience_df['variance'] = variance"
      ],
      "metadata": {
        "trusted": true,
        "id": "qHahuDf0iaVx"
      },
      "outputs": [],
      "execution_count": null
    },
    {
      "cell_type": "code",
      "source": [
        "adience_df = adience_df[adience_df['variance'] >= variance.quantile(0.25)]\n",
        "adience_df.drop(columns='variance')"
      ],
      "metadata": {
        "trusted": true,
        "id": "U8jw8xQ9iaVx"
      },
      "outputs": [],
      "execution_count": null
    },
    {
      "cell_type": "code",
      "source": [
        "adience_df = adience_df.reset_index()"
      ],
      "metadata": {
        "trusted": true,
        "id": "iMs_eK_eiaVx"
      },
      "outputs": [],
      "execution_count": null
    },
    {
      "cell_type": "code",
      "source": [
        "age_ranges = [tuple(map(int, i[1:-1].split(\", \"))) for i in adience_df[\"age\"].unique() if ',' in i]\n",
        "age_ranges.remove((27, 32))\n",
        "age_ranges.remove((38, 42))\n",
        "age_ranges.remove((38, 43))"
      ],
      "metadata": {
        "trusted": true,
        "id": "lW0_VmtZiaVx"
      },
      "outputs": [],
      "execution_count": null
    },
    {
      "cell_type": "code",
      "source": [
        "sorted(age_ranges)"
      ],
      "metadata": {
        "trusted": true,
        "id": "1xnulVq4iaVx"
      },
      "outputs": [],
      "execution_count": null
    },
    {
      "cell_type": "code",
      "source": [
        "adience_df[\"age\"].unique()"
      ],
      "metadata": {
        "trusted": true,
        "id": "ZPNW03VyiaVx"
      },
      "outputs": [],
      "execution_count": null
    },
    {
      "cell_type": "code",
      "source": [
        "for i in range(len(adience_df)):\n",
        "    if adience_df.loc[i, \"age\"] == \"(27, 32)\":\n",
        "        adience_df.loc[i, \"age\"] = \"(25, 32)\"\n",
        "    elif adience_df.loc[i, \"age\"] == \"(38, 42)\":\n",
        "        adience_df.loc[i, \"age\"] = \"(38, 48)\"\n",
        "    elif adience_df.loc[i, \"age\"] == \"(38, 43)\":\n",
        "        adience_df.loc[i, \"age\"] = \"(38, 48)\"\n",
        "    elif \"(\" not in adience_df.loc[i, \"age\"]:\n",
        "        min_dist = 10000\n",
        "        age_range = ()\n",
        "        for j in age_ranges:\n",
        "            dist = min(abs(int(adience_df.loc[i, \"age\"]) - j[0]),\n",
        "                       abs(int(adience_df.loc[i, \"age\"]) - j[1]))\n",
        "            if min_dist > dist:\n",
        "                min_dist = dist\n",
        "                age_range = j\n",
        "        adience_df.loc[i, \"age\"] = str(age_range)"
      ],
      "metadata": {
        "trusted": true,
        "id": "fAHxH8i9iaVx"
      },
      "outputs": [],
      "execution_count": null
    },
    {
      "cell_type": "code",
      "source": [
        "adience_df"
      ],
      "metadata": {
        "trusted": true,
        "id": "FwKJwMiZiaVx"
      },
      "outputs": [],
      "execution_count": null
    },
    {
      "cell_type": "code",
      "source": [
        "sorted(adience_df[\"age\"].unique())"
      ],
      "metadata": {
        "trusted": true,
        "id": "F7G2Di5SiaVx"
      },
      "outputs": [],
      "execution_count": null
    },
    {
      "cell_type": "code",
      "source": [
        "adience_df.to_csv(\"adience.csv\", columns=[\"image_path\", \"age\"], index=False)"
      ],
      "metadata": {
        "trusted": true,
        "id": "xMeRe65ziaVx"
      },
      "outputs": [],
      "execution_count": null
    }
  ]
}