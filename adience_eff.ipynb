{
 "cells": [
  {
   "cell_type": "code",
   "execution_count": null,
   "metadata": {
    "id": "OLcOq-DZ5enI",
    "trusted": true
   },
   "outputs": [],
   "source": [
    "!pip install facenet-pytorch"
   ]
  },
  {
   "cell_type": "code",
   "execution_count": null,
   "metadata": {
    "colab": {
     "base_uri": "https://localhost:8080/"
    },
    "execution": {
     "iopub.execute_input": "2024-11-23T04:56:23.701690Z",
     "iopub.status.busy": "2024-11-23T04:56:23.701380Z",
     "iopub.status.idle": "2024-11-23T04:56:24.480413Z",
     "shell.execute_reply": "2024-11-23T04:56:24.479514Z",
     "shell.execute_reply.started": "2024-11-23T04:56:23.701659Z"
    },
    "executionInfo": {
     "elapsed": 143693,
     "status": "ok",
     "timestamp": 1732329036338,
     "user": {
      "displayName": "Vatsal Dadia",
      "userId": "11223409985158990575"
     },
     "user_tz": 300
    },
    "id": "XB0-G2usBEUU",
    "outputId": "84bbd7a0-ba47-46cc-f1e1-96ab15552922",
    "trusted": true
   },
   "outputs": [
    {
     "name": "stdout",
     "output_type": "stream",
     "text": [
      "Path to dataset files: /kaggle/input/adiencegender\n"
     ]
    }
   ],
   "source": [
    "import kagglehub\n",
    "\n",
    "path = kagglehub.dataset_download(\"alfredhhw/adiencegender\")\n",
    "print(\"Path to dataset files:\", path)"
   ]
  },
  {
   "cell_type": "code",
   "execution_count": 3,
   "metadata": {
    "execution": {
     "iopub.execute_input": "2024-11-23T04:56:24.482135Z",
     "iopub.status.busy": "2024-11-23T04:56:24.481781Z",
     "iopub.status.idle": "2024-11-23T04:56:24.486619Z",
     "shell.execute_reply": "2024-11-23T04:56:24.485771Z",
     "shell.execute_reply.started": "2024-11-23T04:56:24.482095Z"
    },
    "executionInfo": {
     "elapsed": 3,
     "status": "ok",
     "timestamp": 1732329036338,
     "user": {
      "displayName": "Vatsal Dadia",
      "userId": "11223409985158990575"
     },
     "user_tz": 300
    },
    "id": "5f2N-n7rBhW4",
    "trusted": true
   },
   "outputs": [],
   "source": [
    "IMAGE_DIR = \"/kaggle/input/adiencegender/AdienceGender/aligned/\""
   ]
  },
  {
   "cell_type": "code",
   "execution_count": null,
   "metadata": {
    "execution": {
     "iopub.execute_input": "2024-11-23T04:56:24.487713Z",
     "iopub.status.busy": "2024-11-23T04:56:24.487459Z",
     "iopub.status.idle": "2024-11-23T04:56:27.648964Z",
     "shell.execute_reply": "2024-11-23T04:56:27.647933Z",
     "shell.execute_reply.started": "2024-11-23T04:56:24.487687Z"
    },
    "executionInfo": {
     "elapsed": 11263,
     "status": "ok",
     "timestamp": 1732329047599,
     "user": {
      "displayName": "Vatsal Dadia",
      "userId": "11223409985158990575"
     },
     "user_tz": 300
    },
    "id": "_giYceBb4gEf",
    "trusted": true
   },
   "outputs": [],
   "source": [
    "import os\n",
    "import re\n",
    "import numpy as np\n",
    "import pandas as pd\n",
    "import torch\n",
    "from PIL import Image\n",
    "import cv2\n",
    "from facenet_pytorch import MTCNN\n",
    "import torchvision.transforms as transforms\n",
    "from torch.utils.data import Dataset, DataLoader, random_split\n",
    "import matplotlib.pyplot as plt\n",
    "import torch.nn as nn\n",
    "import torchvision.models as models\n",
    "from sklearn.metrics import confusion_matrix, precision_recall_fscore_support\n",
    "from sklearn.manifold import TSNE"
   ]
  },
  {
   "cell_type": "code",
   "execution_count": 5,
   "metadata": {
    "execution": {
     "iopub.execute_input": "2024-11-23T04:56:27.652964Z",
     "iopub.status.busy": "2024-11-23T04:56:27.651852Z",
     "iopub.status.idle": "2024-11-23T04:56:30.283183Z",
     "shell.execute_reply": "2024-11-23T04:56:30.282481Z",
     "shell.execute_reply.started": "2024-11-23T04:56:27.652928Z"
    },
    "executionInfo": {
     "elapsed": 2571,
     "status": "ok",
     "timestamp": 1732329050169,
     "user": {
      "displayName": "Vatsal Dadia",
      "userId": "11223409985158990575"
     },
     "user_tz": 300
    },
    "id": "uBGEH-Lq5qMC",
    "trusted": true
   },
   "outputs": [],
   "source": [
    "adience_df = pd.read_csv(\"https://drive.google.com/uc?id=11a8GW8PXR5jYWQCb73-7IzOTYUR6abQc&export=download\")"
   ]
  },
  {
   "cell_type": "code",
   "execution_count": 6,
   "metadata": {
    "colab": {
     "base_uri": "https://localhost:8080/",
     "height": 424
    },
    "execution": {
     "iopub.execute_input": "2024-11-23T04:56:30.284383Z",
     "iopub.status.busy": "2024-11-23T04:56:30.284139Z",
     "iopub.status.idle": "2024-11-23T04:56:30.296329Z",
     "shell.execute_reply": "2024-11-23T04:56:30.295547Z",
     "shell.execute_reply.started": "2024-11-23T04:56:30.284358Z"
    },
    "executionInfo": {
     "elapsed": 10,
     "status": "ok",
     "timestamp": 1732329050171,
     "user": {
      "displayName": "Vatsal Dadia",
      "userId": "11223409985158990575"
     },
     "user_tz": 300
    },
    "id": "OAcvg1Qp6pUH",
    "outputId": "99e82da0-db2f-4db2-ff29-43149ee0ec95",
    "trusted": true
   },
   "outputs": [
    {
     "data": {
      "text/html": [
       "<div>\n",
       "<style scoped>\n",
       "    .dataframe tbody tr th:only-of-type {\n",
       "        vertical-align: middle;\n",
       "    }\n",
       "\n",
       "    .dataframe tbody tr th {\n",
       "        vertical-align: top;\n",
       "    }\n",
       "\n",
       "    .dataframe thead th {\n",
       "        text-align: right;\n",
       "    }\n",
       "</style>\n",
       "<table border=\"1\" class=\"dataframe\">\n",
       "  <thead>\n",
       "    <tr style=\"text-align: right;\">\n",
       "      <th></th>\n",
       "      <th>image_path</th>\n",
       "      <th>age</th>\n",
       "    </tr>\n",
       "  </thead>\n",
       "  <tbody>\n",
       "    <tr>\n",
       "      <th>0</th>\n",
       "      <td>30601258@N03/landmark_aligned_face.1.103996468...</td>\n",
       "      <td>(25, 32)</td>\n",
       "    </tr>\n",
       "    <tr>\n",
       "      <th>1</th>\n",
       "      <td>30601258@N03/landmark_aligned_face.2.104248158...</td>\n",
       "      <td>(25, 32)</td>\n",
       "    </tr>\n",
       "    <tr>\n",
       "      <th>2</th>\n",
       "      <td>30601258@N03/landmark_aligned_face.1.104379798...</td>\n",
       "      <td>(25, 32)</td>\n",
       "    </tr>\n",
       "    <tr>\n",
       "      <th>3</th>\n",
       "      <td>30601258@N03/landmark_aligned_face.3.104379798...</td>\n",
       "      <td>(25, 32)</td>\n",
       "    </tr>\n",
       "    <tr>\n",
       "      <th>4</th>\n",
       "      <td>30601258@N03/landmark_aligned_face.2.118166449...</td>\n",
       "      <td>(25, 32)</td>\n",
       "    </tr>\n",
       "    <tr>\n",
       "      <th>...</th>\n",
       "      <td>...</td>\n",
       "      <td>...</td>\n",
       "    </tr>\n",
       "    <tr>\n",
       "      <th>13963</th>\n",
       "      <td>101515718@N03/landmark_aligned_face.2280.10587...</td>\n",
       "      <td>(25, 32)</td>\n",
       "    </tr>\n",
       "    <tr>\n",
       "      <th>13964</th>\n",
       "      <td>101515718@N03/landmark_aligned_face.2278.10587...</td>\n",
       "      <td>(25, 32)</td>\n",
       "    </tr>\n",
       "    <tr>\n",
       "      <th>13965</th>\n",
       "      <td>101515718@N03/landmark_aligned_face.2279.10587...</td>\n",
       "      <td>(25, 32)</td>\n",
       "    </tr>\n",
       "    <tr>\n",
       "      <th>13966</th>\n",
       "      <td>50458575@N08/landmark_aligned_face.2281.942669...</td>\n",
       "      <td>(25, 32)</td>\n",
       "    </tr>\n",
       "    <tr>\n",
       "      <th>13967</th>\n",
       "      <td>50458575@N08/landmark_aligned_face.2281.942946...</td>\n",
       "      <td>(25, 32)</td>\n",
       "    </tr>\n",
       "  </tbody>\n",
       "</table>\n",
       "<p>13968 rows × 2 columns</p>\n",
       "</div>"
      ],
      "text/plain": [
       "                                              image_path       age\n",
       "0      30601258@N03/landmark_aligned_face.1.103996468...  (25, 32)\n",
       "1      30601258@N03/landmark_aligned_face.2.104248158...  (25, 32)\n",
       "2      30601258@N03/landmark_aligned_face.1.104379798...  (25, 32)\n",
       "3      30601258@N03/landmark_aligned_face.3.104379798...  (25, 32)\n",
       "4      30601258@N03/landmark_aligned_face.2.118166449...  (25, 32)\n",
       "...                                                  ...       ...\n",
       "13963  101515718@N03/landmark_aligned_face.2280.10587...  (25, 32)\n",
       "13964  101515718@N03/landmark_aligned_face.2278.10587...  (25, 32)\n",
       "13965  101515718@N03/landmark_aligned_face.2279.10587...  (25, 32)\n",
       "13966  50458575@N08/landmark_aligned_face.2281.942669...  (25, 32)\n",
       "13967  50458575@N08/landmark_aligned_face.2281.942946...  (25, 32)\n",
       "\n",
       "[13968 rows x 2 columns]"
      ]
     },
     "execution_count": 6,
     "metadata": {},
     "output_type": "execute_result"
    }
   ],
   "source": [
    "adience_df"
   ]
  },
  {
   "cell_type": "code",
   "execution_count": null,
   "metadata": {
    "execution": {
     "iopub.execute_input": "2024-11-23T04:56:30.297611Z",
     "iopub.status.busy": "2024-11-23T04:56:30.297310Z",
     "iopub.status.idle": "2024-11-23T04:56:30.405242Z",
     "shell.execute_reply": "2024-11-23T04:56:30.404678Z",
     "shell.execute_reply.started": "2024-11-23T04:56:30.297562Z"
    },
    "executionInfo": {
     "elapsed": 8,
     "status": "ok",
     "timestamp": 1732329050171,
     "user": {
      "displayName": "Vatsal Dadia",
      "userId": "11223409985158990575"
     },
     "user_tz": 300
    },
    "id": "iQkhp9hi5wPv",
    "trusted": true
   },
   "outputs": [],
   "source": [
    "adience_df['image_path'] = adience_df['image_path'].astype(str)\n",
    "adience_df['age'] = adience_df['age'].apply(eval)"
   ]
  },
  {
   "cell_type": "code",
   "execution_count": 8,
   "metadata": {
    "execution": {
     "iopub.execute_input": "2024-11-23T04:56:30.406293Z",
     "iopub.status.busy": "2024-11-23T04:56:30.406082Z",
     "iopub.status.idle": "2024-11-23T04:56:30.465329Z",
     "shell.execute_reply": "2024-11-23T04:56:30.464486Z",
     "shell.execute_reply.started": "2024-11-23T04:56:30.406270Z"
    },
    "executionInfo": {
     "elapsed": 7,
     "status": "ok",
     "timestamp": 1732329050171,
     "user": {
      "displayName": "Vatsal Dadia",
      "userId": "11223409985158990575"
     },
     "user_tz": 300
    },
    "id": "wHp29T2J5yzk",
    "trusted": true
   },
   "outputs": [],
   "source": [
    "device = torch.device('cuda' if torch.cuda.is_available() else 'cpu')"
   ]
  },
  {
   "cell_type": "code",
   "execution_count": 9,
   "metadata": {
    "execution": {
     "iopub.execute_input": "2024-11-23T04:56:30.466985Z",
     "iopub.status.busy": "2024-11-23T04:56:30.466677Z",
     "iopub.status.idle": "2024-11-23T04:56:30.633694Z",
     "shell.execute_reply": "2024-11-23T04:56:30.632876Z",
     "shell.execute_reply.started": "2024-11-23T04:56:30.466937Z"
    },
    "executionInfo": {
     "elapsed": 366,
     "status": "ok",
     "timestamp": 1732329050530,
     "user": {
      "displayName": "Vatsal Dadia",
      "userId": "11223409985158990575"
     },
     "user_tz": 300
    },
    "id": "alewHHOZ54DP",
    "trusted": true
   },
   "outputs": [],
   "source": [
    "mtcnn = MTCNN(image_size=224, select_largest=True, keep_all=True, device=device)"
   ]
  },
  {
   "cell_type": "code",
   "execution_count": null,
   "metadata": {
    "execution": {
     "iopub.execute_input": "2024-11-23T04:56:30.634948Z",
     "iopub.status.busy": "2024-11-23T04:56:30.634684Z",
     "iopub.status.idle": "2024-11-23T04:56:30.640796Z",
     "shell.execute_reply": "2024-11-23T04:56:30.639956Z",
     "shell.execute_reply.started": "2024-11-23T04:56:30.634922Z"
    },
    "executionInfo": {
     "elapsed": 5,
     "status": "ok",
     "timestamp": 1732329050530,
     "user": {
      "displayName": "Vatsal Dadia",
      "userId": "11223409985158990575"
     },
     "user_tz": 300
    },
    "id": "hoXpt4yD55mO",
    "trusted": true
   },
   "outputs": [],
   "source": [
    "transform = transforms.Compose([\n",
    "    transforms.Resize((224, 224)),\n",
    "    transforms.ColorJitter(brightness=0.2, contrast=0.2, saturation=0.2),\n",
    "    transforms.RandomGrayscale(p=0.1),\n",
    "    transforms.RandomHorizontalFlip(),\n",
    "    transforms.RandomPerspective(distortion_scale=0.2, p=0.3, interpolation=3, fill=0),\n",
    "    transforms.RandomRotation(20),\n",
    "    transforms.ToTensor(),\n",
    "    transforms.Normalize(mean=[0.485, 0.456, 0.406],\n",
    "                         std=[0.229, 0.224, 0.225])\n",
    "])"
   ]
  },
  {
   "cell_type": "code",
   "execution_count": 11,
   "metadata": {
    "execution": {
     "iopub.execute_input": "2024-11-23T04:56:30.642157Z",
     "iopub.status.busy": "2024-11-23T04:56:30.641912Z",
     "iopub.status.idle": "2024-11-23T04:56:30.655298Z",
     "shell.execute_reply": "2024-11-23T04:56:30.654521Z",
     "shell.execute_reply.started": "2024-11-23T04:56:30.642132Z"
    },
    "executionInfo": {
     "elapsed": 4,
     "status": "ok",
     "timestamp": 1732329050530,
     "user": {
      "displayName": "Vatsal Dadia",
      "userId": "11223409985158990575"
     },
     "user_tz": 300
    },
    "id": "yPGwHRZDKSnf",
    "trusted": true
   },
   "outputs": [],
   "source": [
    "adience_df = adience_df[adience_df['age'] != (8, 23)]"
   ]
  },
  {
   "cell_type": "code",
   "execution_count": 12,
   "metadata": {
    "colab": {
     "base_uri": "https://localhost:8080/"
    },
    "execution": {
     "iopub.execute_input": "2024-11-23T04:56:30.656556Z",
     "iopub.status.busy": "2024-11-23T04:56:30.656261Z",
     "iopub.status.idle": "2024-11-23T04:56:30.667233Z",
     "shell.execute_reply": "2024-11-23T04:56:30.666515Z",
     "shell.execute_reply.started": "2024-11-23T04:56:30.656530Z"
    },
    "executionInfo": {
     "elapsed": 4,
     "status": "ok",
     "timestamp": 1732329050530,
     "user": {
      "displayName": "Vatsal Dadia",
      "userId": "11223409985158990575"
     },
     "user_tz": 300
    },
    "id": "Chlknqx8KDo5",
    "outputId": "28208bef-c60d-493f-a789-ce5f402a903d",
    "trusted": true
   },
   "outputs": [
    {
     "data": {
      "text/plain": [
       "[(0, 2), (4, 6), (8, 12), (15, 20), (25, 32), (38, 48), (48, 53), (60, 100)]"
      ]
     },
     "execution_count": 12,
     "metadata": {},
     "output_type": "execute_result"
    }
   ],
   "source": [
    "sorted(adience_df[\"age\"].unique())"
   ]
  },
  {
   "cell_type": "code",
   "execution_count": null,
   "metadata": {
    "execution": {
     "iopub.execute_input": "2024-11-23T04:56:30.668364Z",
     "iopub.status.busy": "2024-11-23T04:56:30.668138Z",
     "iopub.status.idle": "2024-11-23T04:56:30.677776Z",
     "shell.execute_reply": "2024-11-23T04:56:30.677054Z",
     "shell.execute_reply.started": "2024-11-23T04:56:30.668342Z"
    },
    "executionInfo": {
     "elapsed": 4,
     "status": "ok",
     "timestamp": 1732329050530,
     "user": {
      "displayName": "Vatsal Dadia",
      "userId": "11223409985158990575"
     },
     "user_tz": 300
    },
    "id": "qQ3R0fZY6Pb1",
    "trusted": true
   },
   "outputs": [],
   "source": [
    "class AdienceDataset(Dataset):\n",
    "\n",
    "    def __init__(self, dataframe, transform=None):\n",
    "\n",
    "        self.dataframe = dataframe\n",
    "\n",
    "        self.transform = transform\n",
    "\n",
    "        self.age_range_to_index = {\n",
    "            age_range : idx\n",
    "            for idx, age_range in enumerate(sorted(self.dataframe[\"age\"].unique()))\n",
    "        }\n",
    "\n",
    "\n",
    "    def __len__(self):\n",
    "        return len(self.dataframe)\n",
    "\n",
    "\n",
    "    def __getitem__(self, idx):\n",
    "\n",
    "        row = self.dataframe.iloc[idx]\n",
    "        image_path = row[\"image_path\"]\n",
    "\n",
    "        label = self.age_range_to_index[row[\"age\"]]\n",
    "        label = torch.tensor(label, dtype=torch.long)\n",
    "\n",
    "        image = Image.open(IMAGE_DIR + image_path)\n",
    "        image = image.resize((224, 224))\n",
    "\n",
    "        faces, _ = mtcnn.detect(image)\n",
    "\n",
    "        if faces is None:\n",
    "\n",
    "            image = Image.open(IMAGE_DIR + image_path)\n",
    "\n",
    "            image = image.resize((224, 224))\n",
    "\n",
    "        else:\n",
    "\n",
    "            largest_face_box = faces[0]\n",
    "\n",
    "            image = image.crop((largest_face_box[0], largest_face_box[1], largest_face_box[2], largest_face_box[3]))\n",
    "\n",
    "        if self.transform:\n",
    "\n",
    "            image = self.transform(image)\n",
    "\n",
    "        return image, label"
   ]
  },
  {
   "cell_type": "code",
   "execution_count": null,
   "metadata": {
    "execution": {
     "iopub.execute_input": "2024-11-23T04:56:30.680690Z",
     "iopub.status.busy": "2024-11-23T04:56:30.680421Z",
     "iopub.status.idle": "2024-11-23T04:56:30.690416Z",
     "shell.execute_reply": "2024-11-23T04:56:30.689716Z",
     "shell.execute_reply.started": "2024-11-23T04:56:30.680665Z"
    },
    "executionInfo": {
     "elapsed": 3,
     "status": "ok",
     "timestamp": 1732329050530,
     "user": {
      "displayName": "Vatsal Dadia",
      "userId": "11223409985158990575"
     },
     "user_tz": 300
    },
    "id": "FO9ZnlI76D2b",
    "trusted": true
   },
   "outputs": [],
   "source": [
    "dataset = AdienceDataset(adience_df, transform=transform)\n",
    "\n",
    "train_size = int(0.7 * len(dataset))\n",
    "test_size = len(dataset) - train_size\n",
    "train_dataset, test_dataset = random_split(dataset, [train_size, test_size])"
   ]
  },
  {
   "cell_type": "code",
   "execution_count": null,
   "metadata": {
    "execution": {
     "iopub.execute_input": "2024-11-23T04:56:30.691521Z",
     "iopub.status.busy": "2024-11-23T04:56:30.691264Z",
     "iopub.status.idle": "2024-11-23T04:56:30.702266Z",
     "shell.execute_reply": "2024-11-23T04:56:30.701435Z",
     "shell.execute_reply.started": "2024-11-23T04:56:30.691466Z"
    },
    "executionInfo": {
     "elapsed": 3,
     "status": "ok",
     "timestamp": 1732329050530,
     "user": {
      "displayName": "Vatsal Dadia",
      "userId": "11223409985158990575"
     },
     "user_tz": 300
    },
    "id": "ctq64Ew76cZx",
    "trusted": true
   },
   "outputs": [],
   "source": [
    "\n",
    "train_loader = DataLoader(train_dataset, batch_size=32, shuffle=True)\n",
    "test_loader = DataLoader(test_dataset, batch_size=64, shuffle=False)"
   ]
  },
  {
   "cell_type": "code",
   "execution_count": 16,
   "metadata": {
    "execution": {
     "iopub.execute_input": "2024-11-23T04:56:30.703578Z",
     "iopub.status.busy": "2024-11-23T04:56:30.703282Z",
     "iopub.status.idle": "2024-11-23T04:56:30.713055Z",
     "shell.execute_reply": "2024-11-23T04:56:30.712224Z",
     "shell.execute_reply.started": "2024-11-23T04:56:30.703550Z"
    },
    "executionInfo": {
     "elapsed": 3,
     "status": "ok",
     "timestamp": 1732329050530,
     "user": {
      "displayName": "Vatsal Dadia",
      "userId": "11223409985158990575"
     },
     "user_tz": 300
    },
    "id": "LbGP9YLw1TPS",
    "trusted": true
   },
   "outputs": [],
   "source": [
    "num_classes = 8"
   ]
  },
  {
   "cell_type": "code",
   "execution_count": null,
   "metadata": {
    "executionInfo": {
     "elapsed": 3,
     "status": "ok",
     "timestamp": 1732329050530,
     "user": {
      "displayName": "Vatsal Dadia",
      "userId": "11223409985158990575"
     },
     "user_tz": 300
    },
    "id": "m0AIDlgv64l9",
    "trusted": true
   },
   "outputs": [],
   "source": [
    "model = models.efficientnet_b0(pretrained=True)\n",
    "\n",
    "num_ftrs = model.classifier[-1].in_features\n",
    "\n",
    "model.classifier[-1] = nn.Linear(num_ftrs, num_classes)"
   ]
  },
  {
   "cell_type": "code",
   "execution_count": 20,
   "metadata": {
    "execution": {
     "iopub.execute_input": "2024-11-23T04:56:30.885780Z",
     "iopub.status.busy": "2024-11-23T04:56:30.885440Z",
     "iopub.status.idle": "2024-11-23T04:56:30.911393Z",
     "shell.execute_reply": "2024-11-23T04:56:30.910831Z",
     "shell.execute_reply.started": "2024-11-23T04:56:30.885739Z"
    },
    "executionInfo": {
     "elapsed": 3,
     "status": "ok",
     "timestamp": 1732329050985,
     "user": {
      "displayName": "Vatsal Dadia",
      "userId": "11223409985158990575"
     },
     "user_tz": 300
    },
    "id": "mwtG-9bF03wb",
    "trusted": true
   },
   "outputs": [],
   "source": [
    "model = model.to(device)"
   ]
  },
  {
   "cell_type": "code",
   "execution_count": 21,
   "metadata": {
    "execution": {
     "iopub.execute_input": "2024-11-23T04:56:30.912340Z",
     "iopub.status.busy": "2024-11-23T04:56:30.912128Z",
     "iopub.status.idle": "2024-11-23T04:56:30.917275Z",
     "shell.execute_reply": "2024-11-23T04:56:30.916519Z",
     "shell.execute_reply.started": "2024-11-23T04:56:30.912318Z"
    },
    "executionInfo": {
     "elapsed": 1128,
     "status": "ok",
     "timestamp": 1732329052111,
     "user": {
      "displayName": "Vatsal Dadia",
      "userId": "11223409985158990575"
     },
     "user_tz": 300
    },
    "id": "Qf_9G8qACUWb",
    "trusted": true
   },
   "outputs": [],
   "source": [
    "criterion = nn.CrossEntropyLoss()\n",
    "\n",
    "optimizer = torch.optim.Adam(model.parameters(), lr=0.001)"
   ]
  },
  {
   "cell_type": "code",
   "execution_count": null,
   "metadata": {
    "colab": {
     "base_uri": "https://localhost:8080/"
    },
    "execution": {
     "iopub.execute_input": "2024-11-23T05:16:52.115660Z",
     "iopub.status.busy": "2024-11-23T05:16:52.115359Z",
     "iopub.status.idle": "2024-11-23T05:54:35.981973Z",
     "shell.execute_reply": "2024-11-23T05:54:35.981048Z",
     "shell.execute_reply.started": "2024-11-23T05:16:52.115632Z"
    },
    "executionInfo": {
     "elapsed": 2815754,
     "status": "ok",
     "timestamp": 1732331867863,
     "user": {
      "displayName": "Vatsal Dadia",
      "userId": "11223409985158990575"
     },
     "user_tz": 300
    },
    "id": "hAGWZsoLRDiv",
    "outputId": "a7810b99-7442-4cb1-dcd6-2506f2e60c3f",
    "trusted": true
   },
   "outputs": [
    {
     "name": "stdout",
     "output_type": "stream",
     "text": [
      "Epoch [1/5], Training Loss: 0.6883, Training Accuracy: 73.65%\n",
      "Epoch [2/5], Training Loss: 0.5981, Training Accuracy: 77.67%\n",
      "Epoch [3/5], Training Loss: 0.5277, Training Accuracy: 80.65%\n",
      "Epoch [4/5], Training Loss: 0.4720, Training Accuracy: 82.39%\n",
      "Epoch [5/5], Training Loss: 0.4306, Training Accuracy: 84.25%\n",
      "Training complete.\n"
     ]
    }
   ],
   "source": [
    "num_epochs = 5\n",
    "\n",
    "for epoch in range(num_epochs):\n",
    "\n",
    "    model.train()\n",
    "\n",
    "    running_loss = 0.0\n",
    "\n",
    "    correct_train = 0\n",
    "    total_train = 0\n",
    "\n",
    "    for images, labels in train_loader:\n",
    "\n",
    "        images, labels = images.to(device), labels.to(device)\n",
    "\n",
    "        optimizer.zero_grad()\n",
    "\n",
    "        outputs = model(images)\n",
    "\n",
    "        loss = criterion(outputs, labels)\n",
    "        loss.backward()\n",
    "\n",
    "        optimizer.step()\n",
    "\n",
    "        running_loss += loss.item() * images.size(0)  # Total loss across all samples\n",
    "\n",
    "        _, predicted = torch.max(outputs, 1)\n",
    "\n",
    "        correct_train += (predicted == labels).sum().item()\n",
    "\n",
    "        total_train += labels.size(0)\n",
    "\n",
    "    avg_train_loss = running_loss / len(train_loader.dataset)  # Average loss per sample\n",
    "    train_accuracy = 100 * correct_train / total_train\n",
    "\n",
    "    print(f\"Epoch [{epoch+1}/{num_epochs}], Training Loss: {avg_train_loss:.4f}, Training Accuracy: {train_accuracy:.2f}%\")\n",
    "\n",
    "print(\"Training complete.\")"
   ]
  },
  {
   "cell_type": "code",
   "execution_count": 26,
   "metadata": {
    "execution": {
     "iopub.execute_input": "2024-11-23T05:54:41.419791Z",
     "iopub.status.busy": "2024-11-23T05:54:41.419066Z",
     "iopub.status.idle": "2024-11-23T05:57:48.123807Z",
     "shell.execute_reply": "2024-11-23T05:57:48.122812Z",
     "shell.execute_reply.started": "2024-11-23T05:54:41.419752Z"
    },
    "trusted": true
   },
   "outputs": [
    {
     "name": "stdout",
     "output_type": "stream",
     "text": [
      "Test Accuracy: 76.94%\n",
      "Confusion Matrix:\n",
      " [[ 658   19    0    1    4    1    0    0]\n",
      " [  79  354   13    1    2    0    0    0]\n",
      " [  12   49  316   10   29    2    1    0]\n",
      " [   0    5   26  169  131    1    0    0]\n",
      " [   7    6   18    9 1279   14    5    0]\n",
      " [   2    2    3    3  297  201   21    2]\n",
      " [   1    0    0    1   46   32  111   11]\n",
      " [   0    1    0    0   17   31   37   88]]\n",
      "\n",
      "Precision per class: [0.86693017 0.81192661 0.84042553 0.87113402 0.70858726 0.71276596\n",
      " 0.63428571 0.87128713]\n",
      "Recall per class: [0.96339678 0.78841871 0.75417661 0.50903614 0.95590433 0.37853107\n",
      " 0.54950495 0.50574713]\n",
      "F1-score per class: [0.91262136 0.8        0.79496855 0.64258555 0.8138721  0.49446494\n",
      " 0.58885942 0.64      ]\n",
      "Samples per class: [ 683  449  419  332 1338  531  202  174]\n"
     ]
    }
   ],
   "source": [
    "model.eval()\n",
    "\n",
    "correct_test = 0\n",
    "total_test = 0\n",
    "\n",
    "all_predictions = []\n",
    "all_labels = []\n",
    "\n",
    "\n",
    "with torch.no_grad():\n",
    "    for images, labels in test_loader:\n",
    "        images, labels = images.to(device), labels.to(device)\n",
    "\n",
    "        outputs = model(images)\n",
    "\n",
    "        _, predicted = torch.max(outputs, 1)\n",
    "\n",
    "        correct_test += (predicted == labels).sum().item()\n",
    "        total_test += labels.size(0)\n",
    "\n",
    "        all_predictions.extend(predicted.cpu().numpy())\n",
    "        all_labels.extend(labels.cpu().numpy())\n",
    "\n",
    "\n",
    "# Calculate and print the final test accuracy\n",
    "test_accuracy = 100 * correct_test / total_test\n",
    "print(f'Test Accuracy: {test_accuracy:.2f}%')\n",
    "\n",
    "conf_matrix = confusion_matrix(all_labels, all_predictions)\n",
    "\n",
    "precision, recall, f1_score, support = precision_recall_fscore_support(all_labels, all_predictions)\n",
    "\n",
    "print(\"Confusion Matrix:\\n\", conf_matrix)\n",
    "print(\"\\nPrecision per class:\", precision)\n",
    "print(\"Recall per class:\", recall)\n",
    "print(\"F1-score per class:\", f1_score)\n",
    "print(\"Samples per class:\", support)"
   ]
  }
 ],
 "metadata": {
  "accelerator": "GPU",
  "colab": {
   "authorship_tag": "ABX9TyPznDVh7Wt6UZzinvizotpP",
   "gpuType": "T4",
   "provenance": []
  },
  "kaggle": {
   "accelerator": "nvidiaTeslaT4",
   "dataSources": [
    {
     "datasetId": 981505,
     "sourceId": 1657961,
     "sourceType": "datasetVersion"
    }
   ],
   "dockerImageVersionId": 30787,
   "isGpuEnabled": true,
   "isInternetEnabled": true,
   "language": "python",
   "sourceType": "notebook"
  },
  "kernelspec": {
   "display_name": "Python 3",
   "language": "python",
   "name": "python3"
  },
  "language_info": {
   "codemirror_mode": {
    "name": "ipython",
    "version": 3
   },
   "file_extension": ".py",
   "mimetype": "text/x-python",
   "name": "python",
   "nbconvert_exporter": "python",
   "pygments_lexer": "ipython3",
   "version": "3.10.14"
  }
 },
 "nbformat": 4,
 "nbformat_minor": 4
}
